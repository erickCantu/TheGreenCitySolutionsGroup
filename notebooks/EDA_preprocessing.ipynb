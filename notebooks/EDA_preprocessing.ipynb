{
 "cells": [
  {
   "cell_type": "markdown",
   "metadata": {},
   "source": [
    "# Preprocessing\n",
    "- the main logic has been moved to the `green_city.preprocessing` module."
   ]
  },
  {
   "cell_type": "code",
   "execution_count": null,
   "metadata": {},
   "outputs": [],
   "source": [
    "import pandas as pd\n",
    "import numpy as np\n",
    "\n",
    "#Currently the directory in which the `green_city` module is found has to be added to the `sys.path`.\n",
    "import sys\n",
    "sys.path.append('..')\n",
    "from green_city.preprocessing import preprocess_building, load_building"
   ]
  },
  {
   "cell_type": "code",
   "execution_count": null,
   "metadata": {},
   "outputs": [],
   "source": [
    "building_nrs = [4, 5, 6]\n",
    "for nr in building_nrs:\n",
    "    preprocess_building(nr)"
   ]
  },
  {
   "cell_type": "code",
   "execution_count": null,
   "metadata": {},
   "outputs": [],
   "source": [
    "#get a dataframe of a building from preprocessed.\n",
    "building_4 = load_building(4)"
   ]
  },
  {
   "cell_type": "code",
   "execution_count": null,
   "metadata": {},
   "outputs": [],
   "source": [
    "display(building_4.head(2))\n",
    "display(building_4.attrs)"
   ]
  },
  {
   "cell_type": "markdown",
   "metadata": {},
   "source": [
    "### Check all buildings csv files for columns containing nan's or only single values (such as 0's)"
   ]
  },
  {
   "cell_type": "code",
   "execution_count": null,
   "metadata": {},
   "outputs": [],
   "source": [
    "def analyze_all_buildings():\n",
    "    col_str = lambda x: x if (len(x) == 1 or any([np.isnan(val) for val in x])) else \"\"\n",
    "    unique_entries = {}\n",
    "    for building_nr in range(1, 10):\n",
    "        df = pd.read_csv(f\"../data/citylearn_challenge_2021/Building_{building_nr}.csv\")\n",
    "        assert df.shape == (35040, 12)\n",
    "        unique_entries[building_nr] = pd.Series({col: col_str(df[col].unique()) for col in df.columns})\n",
    "    print(\"all building's csv files are of shape (35040, 12).\")\n",
    "        \n",
    "    comparison_df = pd.DataFrame(unique_entries.values(), index=unique_entries.keys())\n",
    "    \n",
    "    return comparison_df\n",
    "        \n",
    "analyze_all_buildings()"
   ]
  }
 ],
 "metadata": {
  "kernelspec": {
   "display_name": "Python 3.9.8 ('.venv': venv)",
   "language": "python",
   "name": "python3"
  },
  "language_info": {
   "codemirror_mode": {
    "name": "ipython",
    "version": 3
   },
   "file_extension": ".py",
   "mimetype": "text/x-python",
   "name": "python",
   "nbconvert_exporter": "python",
   "pygments_lexer": "ipython3",
   "version": "3.9.8"
  },
  "orig_nbformat": 4,
  "vscode": {
   "interpreter": {
    "hash": "adec6c5f7a7e6b374924807d676c9e580fd19dbf1c8cad640c4c5a1bb48bcada"
   }
  }
 },
 "nbformat": 4,
 "nbformat_minor": 2
}
