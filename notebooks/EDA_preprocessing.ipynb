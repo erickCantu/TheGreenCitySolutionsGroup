{
 "cells": [
  {
   "cell_type": "markdown",
   "metadata": {},
   "source": [
    "# Preprocessing\n",
    "- the main logic has been moved to the `green_city.preprocessing` module."
   ]
  },
  {
   "cell_type": "code",
   "execution_count": 2,
   "metadata": {},
   "outputs": [],
   "source": [
    "import pandas as pd\n",
    "import numpy as np\n",
    "\n",
    "#Currently the directory in which the `green_city` module is found has to be added to the `sys.path`.\n",
    "import sys\n",
    "sys.path.append('..')\n",
    "from green_city.preprocessing import preprocess_building, load_building"
   ]
  },
  {
   "cell_type": "code",
   "execution_count": 3,
   "metadata": {},
   "outputs": [],
   "source": [
    "building_nrs = [4, 5, 6]\n",
    "for nr in building_nrs:\n",
    "    preprocess_building(nr)"
   ]
  },
  {
   "cell_type": "code",
   "execution_count": 4,
   "metadata": {},
   "outputs": [],
   "source": [
<<<<<<< HEAD
    "#get a dataframe of a building from preprocessed.\n",
    "building_4 = load_building(4)"
   ]
  },
  {
   "cell_type": "code",
   "execution_count": null,
   "metadata": {},
   "outputs": [],
   "source": [
    "display(building_4.head(2))\n",
    "display(building_4.attrs)"
=======
    "building_nrs = [4, 5]\n",
    "\n",
    "for building_nr in building_nrs:\n",
    "    #1. load json for this building\n",
    "    with open(\"../data/citylearn_challenge_2021/schema.json\") as schema_file:\n",
    "        schema = json.load(schema_file)\n",
    "\n",
    "    building_properties = schema['buildings'][f'Building_{building_nr}']\n",
    "    pv_nominal_power_kW = building_properties['pv']['attributes']['nominal_power']\n",
    "\n",
    "    weather = pd.read_csv(\"../data/citylearn_challenge_2021/weather.csv\")\n",
    "    building = pd.read_csv(f\"../data/citylearn_challenge_2021/Building_{building_nr}.csv\")\n",
    "    building = pd.concat([building, weather], axis=1)\n",
    "    assert len(building) == len(weather)\n",
    "\n",
    "    building = (building\n",
    "    .drop(columns=[\"Heating Load [kWh]\"])\n",
    "    .assign(\n",
    "            datetime = span('2008-01-02', '2011-12-31'),\n",
    "            holiday = lambda x: x[\"Day Type\"] == 8)\n",
    "    .assign(workday = lambda x: (x.datetime.dt.weekday >= 1) & (x.datetime.dt.weekday <= 5) & (x[\"Day Type\"] != 8) )\n",
    "    .drop(columns=[\"Month\", \"Hour\", \"Day Type\"])\n",
    "    .set_index(\"datetime\")\n",
    "    .rename(columns=rename_cols)\n",
    "    .assign(solar_generation_kW = lambda x: x.solar_generation_W_kW * pv_nominal_power_kW/1000)\n",
    "    )\n",
    "\n",
    "    building['net_load_kWh'] = building['equipment_electric_power_kWh'] + building['dhw_heating_kWh'] + building['cooling_load_kWh'] - building['solar_generation_kW']\n",
    "    \n",
    "    building.to_csv(f\"../data/preprocessed/Building_{building_nr}.csv\")"
>>>>>>> little_fixes
   ]
  },
  {
   "cell_type": "markdown",
   "metadata": {},
   "source": [
    "### Check all buildings csv files for columns containing nan's or only single values (such as 0's)"
   ]
  },
  {
   "cell_type": "code",
   "execution_count": null,
   "metadata": {},
   "outputs": [],
   "source": [
    "def analyze_all_buildings():\n",
    "    col_str = lambda x: x if (len(x) == 1 or any([np.isnan(val) for val in x])) else \"\"\n",
    "    unique_entries = {}\n",
    "    for building_nr in range(1, 10):\n",
    "        df = pd.read_csv(f\"../data/citylearn_challenge_2021/Building_{building_nr}.csv\")\n",
    "        assert df.shape == (35040, 12)\n",
    "        unique_entries[building_nr] = pd.Series({col: col_str(df[col].unique()) for col in df.columns})\n",
    "    print(\"all building's csv files are of shape (35040, 12).\")\n",
    "        \n",
    "    comparison_df = pd.DataFrame(unique_entries.values(), index=unique_entries.keys())\n",
    "    \n",
    "    return comparison_df\n",
    "        \n",
    "analyze_all_buildings()"
   ]
  }
 ],
 "metadata": {
  "kernelspec": {
   "display_name": "Python 3.9.8 ('.venv': venv)",
   "language": "python",
   "name": "python3"
  },
  "language_info": {
   "codemirror_mode": {
    "name": "ipython",
    "version": 3
   },
   "file_extension": ".py",
   "mimetype": "text/x-python",
   "name": "python",
   "nbconvert_exporter": "python",
   "pygments_lexer": "ipython3",
   "version": "3.9.8"
  },
  "orig_nbformat": 4,
  "vscode": {
   "interpreter": {
    "hash": "adec6c5f7a7e6b374924807d676c9e580fd19dbf1c8cad640c4c5a1bb48bcada"
   }
  }
 },
 "nbformat": 4,
 "nbformat_minor": 2
}
