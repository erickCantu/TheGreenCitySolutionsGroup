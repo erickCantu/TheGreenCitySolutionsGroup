{
 "cells": [
  {
   "cell_type": "code",
   "execution_count": null,
   "metadata": {},
   "outputs": [],
   "source": [
    "import pandas as pd\n",
    "import numpy as np\n",
    "import matplotlib.pyplot as plt\n",
    "import sys\n",
    "sys.path.append('..')\n",
    "from green_city.utils import span"
   ]
  },
  {
   "cell_type": "code",
   "execution_count": null,
   "metadata": {},
   "outputs": [],
   "source": [
    "b4 = pd.read_csv(\"../data/preprocessed/Building_4.csv\").astype({'datetime': 'datetime64'}).set_index('datetime')"
   ]
  },
  {
   "cell_type": "markdown",
   "metadata": {},
   "source": [
    "## some aggregation on solar cell power generation"
   ]
  },
  {
   "cell_type": "code",
   "execution_count": null,
   "metadata": {},
   "outputs": [],
   "source": [
    "fig, (ax1, ax2) = plt.subplots(1, 2)\n",
    "fig.suptitle(\"Solar generation -vs- direct solar radiation [first day]\")\n",
    "b4.loc[span('2008-01-02'), 'solar_generation_W_kW'].plot(ax=ax1) #7 = Solar Generation [W/kW]\n",
    "ax1.set_title(\"Solar generation [W/kW]\")\n",
    "b4.loc[span('2008-01-02'), 'direct_solar_W_m2'].plot(ax=ax2);\n",
    "ax2.set_title(\"Direct solar radiation [W/m2]\")"
   ]
  },
  {
   "cell_type": "code",
   "execution_count": null,
   "metadata": {},
   "outputs": [],
   "source": [
    "fig, ax = plt.subplots()\n",
    "fig.suptitle(\"Solar generation -vs- direct solar radiation [first two months]\")\n",
    "ax.plot(\"solar_generation_W_kW\", data = b4.loc[span('2008-01-02', '2008-02-02'), :], label=\"Solar generation [W/kW]\")\n",
    "ax.plot(\"direct_solar_W_m2\",     data = b4.loc[span('2008-01-02', '2008-02-02'), :], label=\"Direct solar radiation [W/m2]\")\n",
    "plt.legend()"
   ]
  },
  {
   "cell_type": "code",
   "execution_count": null,
   "metadata": {},
   "outputs": [],
   "source": [
    "is_winter = np.logical_or(b4.index.month < 4, b4.index.month > 9)\n",
    "winterdays = b4[is_winter]\n",
    "summerdays = b4[np.logical_not(is_winter)]\n",
    "print(\"winter daily avg solar generation: \", winterdays.agg(\"mean\")[\"solar_generation_kW\"])\n",
    "print(\"summer daily avg solar generation: \", summerdays.agg(\"mean\")[\"solar_generation_kW\"])\n",
    "#how does one query for properties of the datetime index?\n",
    "#b5.query(\"datetime.dt.hour < 5\")"
   ]
  },
  {
   "cell_type": "markdown",
   "metadata": {},
   "source": [
    "# Trends and Seasonalities"
   ]
  },
  {
   "cell_type": "code",
   "execution_count": null,
   "metadata": {},
   "outputs": [],
   "source": [
    "import seaborn as sns\n",
    "# Define plotting parameters and custom color palette \n",
    "cmaps_hex = ['#193251','#FF5A36','#1E4485', '#99D04A','#FF5A36', '#DB6668']\n",
    "#sns.set_palette(palette=cmaps_hex)\n",
    "sns_c = sns.color_palette(palette=cmaps_hex)\n",
    "\n",
    "plt.rcParams['figure.figsize'] = [15, 5]\n",
    "plt.rcParams['figure.dpi'] = 100"
   ]
  },
  {
   "cell_type": "code",
   "execution_count": null,
   "metadata": {},
   "outputs": [],
   "source": [
    "def get_first_n(series, n = None):\n",
    "    if not n:\n",
    "        return series\n",
    "    return series[:n]\n",
    "    \n",
    "def plot_decomposition(decomposition, first_n = None):\n",
    "    fig, ax = plt.subplots(4, 1, figsize=(12, 12), constrained_layout=True)\n",
    "    observed = get_first_n(decomposition.observed, first_n)\n",
    "    observed.plot(c=sns_c[0], ax=ax[0])\n",
    "    ax[0].set(title='Actual temperature')\n",
    "    trend = get_first_n(decomposition.trend, first_n)\n",
    "    trend.plot(c=sns_c[1], ax=ax[1])\n",
    "    ax[1].set(title='trend')\n",
    "    seasonal = get_first_n(decomposition.seasonal, first_n)\n",
    "    seasonal.plot(c=sns_c[2], ax=ax[2])\n",
    "    ax[2].set(title='seasonal')\n",
    "    resid = get_first_n(decomposition.resid, first_n)\n",
    "    resid.plot(c=sns_c[3], ax=ax[3])\n",
    "    ax[3].set(title='residual')\n",
    "    fig.set_size_inches(20, 10);"
   ]
  },
  {
   "cell_type": "code",
   "execution_count": null,
   "metadata": {},
   "outputs": [],
   "source": [
    "from statsmodels.tsa.seasonal import seasonal_decompose\n",
    "\n",
    "orig_data = b4.outdoor_temp\n",
    "decomposition_dailyseason = seasonal_decompose(x=orig_data,\n",
    "                                   model='additive',\n",
    "                                   period=24,)\n",
    "plot_decomposition(decomposition_dailyseason, 500)"
   ]
  },
  {
   "cell_type": "code",
   "execution_count": null,
   "metadata": {},
   "outputs": [],
   "source": [
    "#decomposing multiple seasonalities (doesn't currently work well for me)\n",
    "\n",
    "##this requires the development version of statsmodels\n",
    "##and it produces weird results.\n",
    "#\n",
    "##https://www.statsmodels.org/dev/examples/notebooks/generated/mstl_decomposition.html\n",
    "##https://www.statsmodels.org/dev/_modules/statsmodels/tsa/stl/mstl.html\n",
    "##https://towardsdatascience.com/multi-seasonal-time-series-decomposition-using-mstl-in-python-136630e67530\n",
    "##from statsmodels.tsa.seasonal import DecomposeResult\n",
    "#from statsmodels.tsa.stl.mstl import MSTL\n",
    "#\n",
    "#mstl_model = MSTL(b5.loc[span(\"2008-01-02\", \"2010-05-05\"), \"outdoor_drybulb_temp_C\"], periods=(24 * 365, 24))\n",
    "#res = mstl_model.fit()\n",
    "#ax = res.plot()"
   ]
  }
 ],
 "metadata": {
  "kernelspec": {
   "display_name": "Python 3.9.8 ('.venv': venv)",
   "language": "python",
   "name": "python3"
  },
  "language_info": {
   "codemirror_mode": {
    "name": "ipython",
    "version": 3
   },
   "file_extension": ".py",
   "mimetype": "text/x-python",
   "name": "python",
   "nbconvert_exporter": "python",
   "pygments_lexer": "ipython3",
   "version": "3.9.8"
  },
  "orig_nbformat": 4,
  "vscode": {
   "interpreter": {
    "hash": "adec6c5f7a7e6b374924807d676c9e580fd19dbf1c8cad640c4c5a1bb48bcada"
   }
  }
 },
 "nbformat": 4,
 "nbformat_minor": 2
}
