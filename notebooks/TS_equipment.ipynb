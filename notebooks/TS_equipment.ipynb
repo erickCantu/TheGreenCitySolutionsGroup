{
 "cells": [
  {
   "cell_type": "code",
   "execution_count": null,
   "metadata": {},
   "outputs": [],
   "source": [
    "import mlflow\n",
    "import numpy as np\n",
    "import pandas as pd\n",
    "import seaborn as sns\n",
    "from sklearn.model_selection import train_test_split\n",
    "from sklearn.linear_model import LinearRegression\n",
    "import matplotlib.pyplot as plt\n",
    "from sklearn.metrics import r2_score\n",
    "from statsmodels.graphics.tsaplots import plot_acf, plot_pacf\n",
    "from statsmodels.tsa.seasonal import seasonal_decompose\n",
    "from sklearn.metrics import mean_absolute_error,mean_squared_error\n",
    "\n",
    "from tbats import BATS, TBATS\n",
    "\n",
    "from green_city.utils import span\n",
    "from green_city.plotting import plot_decomposition\n",
    "from green_city.mlflow_config import get_mlflow_config\n",
    "plt.rcParams['figure.figsize'] = [25, 8]"
   ]
  },
  {
   "cell_type": "code",
   "execution_count": null,
   "metadata": {},
   "outputs": [],
   "source": [
    "building_nr = 5\n",
    "split_ratio = 3/4\n",
    "seasonalities = [365, 7]\n",
    "column_to_predict = \"equipment_electric_power_kWh\"\n",
    "#forecast_window = 7\n",
    "#column_to_predict = \"dhw_heating_kWh\"\n",
    "\n",
    "#document wide parameters that don't change in experiments\n",
    "#for logging to mlflow server\n",
    "global_params = {\n",
    "    \"building nr\": building_nr,\n",
    "    \"predicted feature\": column_to_predict,\n",
    "    \"resolution\": \"daily\",\n",
    "}"
   ]
  },
  {
   "cell_type": "code",
   "execution_count": null,
   "metadata": {},
   "outputs": [],
   "source": [
    "## MLFLOW ##\n",
    "flow_conf = get_mlflow_config()\n",
    "tracking_uri = flow_conf[\"TRACKING_URI\"]\n",
    "print(\"MLFlow experiment name:\", flow_conf[\"EXPERIMENT_NAME\"])\n",
    "mlflow.set_tracking_uri(flow_conf[\"TRACKING_URI\"])\n",
    "mlflow.set_experiment(flow_conf[\"EXPERIMENT_NAME\"]);"
   ]
  },
  {
   "cell_type": "code",
   "execution_count": null,
   "metadata": {},
   "outputs": [],
   "source": [
    "#create dataframe only with daily total equipment energy consumption\n",
    "def get_daily_df(building_nr, column_to_predict):\n",
    "    df = (\n",
    "    pd.read_csv(f\"../data/preprocessed/Building_{building_nr}.csv\")\n",
    "        .astype({'datetime': 'datetime64'})\n",
    "        .assign(tday = lambda x: x.index.map(lambda x: x//24))\n",
    "        .groupby('tday').sum()\n",
    "        [[column_to_predict]]\n",
    "        .rename(columns={column_to_predict: \"actual\"})\n",
    "    )\n",
    "    return df\n",
    "\n",
    "df = get_daily_df(building_nr, column_to_predict)\n",
    "\n",
    "fig, (ax1, ax2) = plt.subplots(2, 1)\n",
    "df.actual.plot(ax=ax1, xlabel=\"\");\n",
    "#ax1.set_xlabel(\"\")\n",
    "plot_acf(df.actual, lags=370, ax=ax2);\n",
    "plt.subplots_adjust(hspace=0.2)"
   ]
  },
  {
   "cell_type": "markdown",
   "metadata": {},
   "source": [
    "## Seasonal decomposition"
   ]
  },
  {
   "cell_type": "code",
   "execution_count": null,
   "metadata": {},
   "outputs": [],
   "source": [
    "def add_seasonal_trend_cols(df, to_row):\n",
    "    df[[\"trend\", *[f\"seasonal_{s}\" for s in seasonalities]]] = np.nan\n",
    "    \n",
    "    for i, s in enumerate(seasonalities):\n",
    "        #calculate seasonal components for each seasonality\n",
    "        if i == 0:\n",
    "            decomp = seasonal_decompose(df.loc[:to_row-1, [\"actual\"]], model='add', period=s, extrapolate_trend=1)\n",
    "            df.loc[:to_row-1, \"trend\"] = decomp.trend #extrapolate with last constant. could be done better\n",
    "        else:\n",
    "            decomp = seasonal_decompose(df.loc[:to_row-1, [\"actual\"]], model='add', period=s)\n",
    "        df.loc[:to_row-1, f\"seasonal_{s}\"] = decomp.seasonal\n",
    "    \n",
    "        #extrapolate decomposition data to future\n",
    "        fr = to_row % s\n",
    "        to = fr + len(df) - to_row - 1\n",
    "        df.loc[to_row:, [f\"seasonal_{s}\"]] = df.loc[fr:to, [f\"seasonal_{s}\"]].values\n",
    "        if i == 0:\n",
    "            df.loc[to_row:, \"trend\"] = df.trend[to_row-1]\n",
    "            pass\n",
    "        assert not any([np.isnan(val) for val in df[f\"seasonal_{s}\"]])\n",
    "        assert not any([np.isnan(val) for val in df[\"trend\"]])"
   ]
  },
  {
   "cell_type": "code",
   "execution_count": null,
   "metadata": {},
   "outputs": [],
   "source": [
    "# Starting the MLFlow run\n",
    "r = mlflow.start_run(run_name=\"seasonal decomposition\")\n",
    "print(\"run-uuid:\", r.info.run_uuid)\n",
    "\n",
    "# Generating the decomposition\n",
    "split_pos = int(len(df)*split_ratio)\n",
    "add_seasonal_trend_cols(df, split_pos)\n",
    "\n",
    "df[\"pred_by_decomp\"] = df.trend + df.seasonal_365 + df.seasonal_7"
   ]
  },
  {
   "cell_type": "markdown",
   "metadata": {},
   "source": [
    "#### Getting the scores and plotting the results"
   ]
  },
  {
   "cell_type": "code",
   "execution_count": null,
   "metadata": {},
   "outputs": [],
   "source": [
    "##########\n",
    "# Scores #\n",
    "##########\n",
    "mae = mean_absolute_error(df[split_pos:][\"actual\"],df[split_pos:][\"pred_by_decomp\"])\n",
    "mse = mean_squared_error(df[split_pos:][\"actual\"],df[split_pos:][\"pred_by_decomp\"])\n",
    "print(f\"mae: {mae}, mse: {mse}\")"
   ]
  },
  {
   "cell_type": "code",
   "execution_count": null,
   "metadata": {},
   "outputs": [],
   "source": [
    "##########\n",
    "# MLFLOW #\n",
    "##########\n",
    "# Running this cell will upload the records of the model\n",
    "# to the mlflow server\n",
    "\n",
    "# alternatively to the \"with\" statement you can use\n",
    "# mlflow.start_run() and mlflow.end_run(), see\n",
    "# https://mlflow.org/docs/latest/python_api/mlflow.html\n",
    "\n",
    "\n",
    "for k, v in global_params.items():\n",
    "    mlflow.log_param(k, v)\n",
    "#individual parameters\n",
    "mlflow.log_param(\"model\", \"seasonal_decompose\")\n",
    "mlflow.log_param(\"prediction_length\", len(df[split_pos:]))\n",
    "mlflow.log_metric(\"mse\", mse)\n",
    "mlflow.log_metric(\"mae\", mae)\n",
    "#mlflow.log_metric(\"r2_score\", r2)\n",
    "\n",
    "mlflow.end_run()"
   ]
  },
  {
   "cell_type": "code",
   "execution_count": null,
   "metadata": {},
   "outputs": [],
   "source": [
    "############\n",
    "# Plotting #\n",
    "############\n",
    "def plt_predictions(low=0, high=-1, ax=None):\n",
    "    df[low:high].actual.plot(color=\"black\", ax=ax)\n",
    "    df[low:high].pred_by_decomp.plot(color=\"orange\", ax=ax)\n",
    "    strt = max(low, split_pos)\n",
    "    df[strt:high].pred_by_decomp.plot(color=\"green\", ax=ax)\n",
    "    df[low:high].trend.plot(ax=ax)\n",
    "\n",
    "fig, (ax1, ax2) = plt.subplots(2, 1)\n",
    "fig.suptitle(\"Decomposition prediction\")\n",
    "plt_predictions(ax=ax1)\n",
    "plt_predictions(split_pos-50, split_pos+50, ax=ax2)\n",
    "fig, (ax1, ax2) = plt.subplots(2, 1)\n",
    "fig.suptitle(\"Errors\")\n",
    "ax1.plot(df.apply(lambda x: x[\"pred_by_decomp\"] - x[\"actual\"], axis=1));\n",
    "plot_acf(df.apply(lambda x: x[\"pred_by_decomp\"] - x[\"actual\"], axis=1), lags=370, ax=ax2);\n"
   ]
  },
  {
   "cell_type": "markdown",
   "metadata": {},
   "source": [
    "## TBATS"
   ]
  },
  {
   "cell_type": "code",
   "execution_count": null,
   "metadata": {},
   "outputs": [],
   "source": [
    "# MLFLOW:\n",
    "# Running this cell will automatically upload the records of the model\n",
    "# to the mlflow server\n",
    "# alternatively to the \"with\" statement you can use\n",
    "# mlflow.start_run() and mlflow.end_run(), see above or\n",
    "# https://mlflow.org/docs/latest/python_api/mlflow.html\n",
    "\n",
    "with mlflow.start_run(run_name=\"TBATS\") as r:\n",
    "    print(\"run-uuid:\", r.info.run_uuid)\n",
    "\n",
    "    ###########\n",
    "    # Fitting #\n",
    "    ###########\n",
    "    tbats_forecast_window = 300\n",
    "    #with \n",
    "    df_tbats = get_daily_df(building_nr, column_to_predict)\n",
    "    estimator = TBATS(seasonal_periods=[7, 365])\n",
    "    fitted_model = estimator.fit(df_tbats.actual[:split_pos])\n",
    "    forecast = fitted_model.forecast(steps=tbats_forecast_window)\n",
    "    df_tbats[\"forecast\"] = np.nan\n",
    "    df_tbats.loc[split_pos:split_pos+tbats_forecast_window-1, \"forecast\"] = forecast\n",
    "\n",
    "    df_tbats[\"actual\"].plot()\n",
    "    df_tbats[\"forecast\"].plot()\n",
    "\n",
    "    ###########\n",
    "    # Scoring #\n",
    "    ###########\n",
    "    df_tbats[split_pos:split_pos+tbats_forecast_window].apply(lambda x: x[\"forecast\"] - x[\"actual\"], axis=1)\n",
    "    df_forcastwindow = df_tbats[split_pos:split_pos+tbats_forecast_window]\n",
    "    mae = mean_absolute_error(df_forcastwindow[\"actual\"],df_forcastwindow[\"forecast\"])\n",
    "    mse = mean_squared_error(df_forcastwindow[\"actual\"],df_forcastwindow[\"forecast\"])\n",
    "    print(f\"mae: {mae}, mse: {mse}\")\n",
    "\n",
    "    ##################\n",
    "    # MLFLOW logging #\n",
    "    ##################\n",
    "    #global parameters\n",
    "    for k, v in global_params.items():\n",
    "        mlflow.log_param(k, v)\n",
    "    #individual parameters\n",
    "    mlflow.log_param(\"model\", \"TBATS\")\n",
    "    mlflow.log_param(\"prediction_length\", tbats_forecast_window)\n",
    "    mlflow.log_metric(\"mse\", mse)\n",
    "    mlflow.log_metric(\"mae\", mae)\n",
    "    #mlflow.log_metric(\"r2_score\", r2)"
   ]
  }
 ],
 "metadata": {
  "kernelspec": {
   "display_name": "Python 3.9.8 ('.venv': venv)",
   "language": "python",
   "name": "python3"
  },
  "language_info": {
   "codemirror_mode": {
    "name": "ipython",
    "version": 3
   },
   "file_extension": ".py",
   "mimetype": "text/x-python",
   "name": "python",
   "nbconvert_exporter": "python",
   "pygments_lexer": "ipython3",
   "version": "3.9.8"
  },
  "orig_nbformat": 4,
  "vscode": {
   "interpreter": {
    "hash": "adec6c5f7a7e6b374924807d676c9e580fd19dbf1c8cad640c4c5a1bb48bcada"
   }
  }
 },
 "nbformat": 4,
 "nbformat_minor": 2
}
