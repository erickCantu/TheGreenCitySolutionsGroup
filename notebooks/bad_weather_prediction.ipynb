{
 "cells": [
  {
   "cell_type": "code",
   "execution_count": null,
   "metadata": {},
   "outputs": [],
   "source": [
    "import numpy as np\n",
    "import pandas as pd\n",
    "import seaborn as sns\n",
    "from sklearn.model_selection import train_test_split\n",
    "from sklearn.linear_model import LinearRegression\n",
    "import matplotlib.pyplot as plt\n",
    "from sklearn.metrics import r2_score\n",
    "from statsmodels.graphics.tsaplots import plot_acf, plot_pacf\n",
    "from statsmodels.tsa.seasonal import seasonal_decompose\n",
    "from sklearn.metrics import mean_absolute_error,mean_squared_error\n",
    "\n",
    "from tbats import BATS, TBATS\n",
    "\n",
    "from green_city.utils import span\n",
    "from green_city.plotting import plot_decomposition\n",
    "plt.rcParams['figure.figsize'] = [25, 5]"
   ]
  },
  {
   "cell_type": "code",
   "execution_count": null,
   "metadata": {},
   "outputs": [],
   "source": [
    "df = (pd.read_csv(\"../data/preprocessed/Building_5.csv\")\n",
    "      .astype({'datetime': 'datetime64'}))\n",
    "df = df.assign(tday = df.index.map(lambda x: x//24))\n",
    "      #.set_index('datetime'))\n",
    "len(df)"
   ]
  },
  {
   "cell_type": "markdown",
   "metadata": {},
   "source": [
    "# Time series prediction for equipment power usage\n",
    "- [?] which timewindow do I want to predict\n",
    "- absolute power consumption for next hour/ next 6h/ next day\n",
    "\n",
    "#### strategy\n",
    "- compute trends and seasonalities ones such that they don't have to be re-computed when fitting to new data\n",
    "- we may more want to go for 'recall' for peaks/overestimation because the potential loss when not having enough energy in store may overweight other costs"
   ]
  },
  {
   "cell_type": "markdown",
   "metadata": {},
   "source": [
    "### Metric and Baseline\n",
    "- if I only want to predict one hour, of sth. aggregated for a day, I can just use pre-day."
   ]
  },
  {
   "cell_type": "code",
   "execution_count": null,
   "metadata": {},
   "outputs": [],
   "source": [
    "#1. daily sum\n",
    "df_daily =  df.groupby('tday').sum()[[\"equipment_electric_power_kWh\"]].rename(columns={\"equipment_electric_power_kWh\": \"actual\"})\n",
    "df_daily.actual.plot();"
   ]
  },
  {
   "cell_type": "code",
   "execution_count": null,
   "metadata": {},
   "outputs": [],
   "source": [
    "plot_acf(df_daily.actual, lags=370);"
   ]
  },
  {
   "cell_type": "markdown",
   "metadata": {},
   "source": [
    "1. eliminate yearly trend"
   ]
  },
  {
   "cell_type": "code",
   "execution_count": null,
   "metadata": {},
   "outputs": [],
   "source": [
    "def add_seasonal_w_y_cols(df, to_row):\n",
    "    df[\"trend\"] = np.nan\n",
    "    df[\"seasonal_year\"] = np.nan\n",
    "    df[\"seasonal_week\"] = np.nan\n",
    "    \n",
    "    df_given = df.loc[:to_row]\n",
    "    df_decomp = seasonal_decompose(df_given.actual, model='add', period=365, extrapolate_trend=1)\n",
    "    df_given[\"trend\"] = df_decomp.trend\n",
    "    df_given[\"seasonal_year\"] = df_decomp.seasonal\n",
    "    df_decomp2 = seasonal_decompose(df_given.actual - df_given.seasonal_year, model='add', period=7)\n",
    "    df_given[\"seasonal_week\"] = df_decomp2.seasonal\n"
   ]
  },
  {
   "cell_type": "code",
   "execution_count": null,
   "metadata": {},
   "outputs": [],
   "source": [
    "split_pos = int(len(df_daily)*(1 - 1/4))\n",
    "add_seasonal_w_y_cols(df_daily, split_pos)\n",
    "\n",
    "X = df_daily[:split_pos]\n",
    "Y = df_daily[split_pos:]\n",
    "\n",
    "#plot_acf(df_daily.actual[182:-182] - df_daily.trend[182:-182] - df_daily.seasonal[182:-182], lags=130)\n",
    "plot_acf(X.actual - X.seasonal_year, lags=130)\n",
    "plot_acf(X.actual - X.seasonal_year - X.seasonal_week, lags=130);"
   ]
  },
  {
   "cell_type": "code",
   "execution_count": null,
   "metadata": {},
   "outputs": [],
   "source": [
    "len(df_daily)-split_pos\n",
    "df_daily.seasonal_year[split_pos:] = df_daily.seasonal_year[split_pos-2*365:-2*365]\n",
    "df_daily.seasonal_week[split_pos:] = df_daily.seasonal_week[split_pos-700:-700]\n",
    "df_daily.trend[split_pos:] = df_daily.trend[split_pos]\n",
    "\n",
    "df_daily[\"pred_by_decomp\"] = df_daily.trend + df_daily.seasonal_year + df_daily.seasonal_week"
   ]
  },
  {
   "cell_type": "code",
   "execution_count": null,
   "metadata": {},
   "outputs": [],
   "source": [
    "df_daily.actual.plot(color=\"green\")\n",
    "df_daily.trend.plot()\n",
    "df_daily.pred_by_decomp.plot(color=\"red\")\n",
    "df_daily[:split_pos].actual.plot(color=\"blue\")"
   ]
  },
  {
   "cell_type": "code",
   "execution_count": null,
   "metadata": {},
   "outputs": [],
   "source": [
    "df_daily.seasonal_year.plot()\n",
    "df_daily.seasonal_week.plot()"
   ]
  },
  {
   "cell_type": "code",
   "execution_count": null,
   "metadata": {},
   "outputs": [],
   "source": [
    "df_daily.loc[split_pos-50:split_pos+100].pred_by_decomp.plot(color=\"red\")\n",
    "df_daily.loc[split_pos-50:split_pos+100].actual.plot(color=\"green\")\n",
    "df_daily.loc[split_pos-50:split_pos].actual.plot(color=\"black\")\n",
    "#next learn sth on the prediction error"
   ]
  },
  {
   "cell_type": "markdown",
   "metadata": {},
   "source": [
    "### Predicting the residual"
   ]
  },
  {
   "cell_type": "code",
   "execution_count": null,
   "metadata": {},
   "outputs": [],
   "source": [
    "df_daily[\"pred_error\"] = df_daily[\"pred_by_decomp\"] - df_daily[\"actual\"]\n",
    "plot_acf(df_daily[\"pred_error\"], lags=70);\n",
    "\n",
    "\n",
    "from statsmodels.tsa.arima.model import ARIMA\n",
    "model = ARIMA(df_daily[\"pred_error\"], order=(1,0,1))\n",
    "model_fit = model.fit()\n",
    "y_pred = model_fit.predict(dynamic=False)\n",
    "plt.plot(y_pred)\n",
    "y_pred"
   ]
  },
  {
   "cell_type": "code",
   "execution_count": null,
   "metadata": {},
   "outputs": [],
   "source": [
    "\n",
    "error_estimator = TBATS()\n",
    "fitted_error_model = error_estimator.fit(df_daily.iloc[:split_pos][\"pred_error\"])\n",
    "forecasted_error = fitted_error_model.forecast(steps=140)"
   ]
  },
  {
   "cell_type": "code",
   "execution_count": null,
   "metadata": {},
   "outputs": [],
   "source": [
    "df_daily[\"pred_by_decomp_corrected\"] = df_daily[\"pred_by_decomp\"]\n",
    "df_daily[\"pred_by_decomp_corrected\"][split_pos:split_pos+140] += forecasted_error"
   ]
  },
  {
   "cell_type": "code",
   "execution_count": null,
   "metadata": {},
   "outputs": [],
   "source": [
    "df_daily[split_pos-5:split_pos+5][[\"actual\", \"pred_by_decomp\", \"pred_by_decomp_corrected\"]].plot()"
   ]
  },
  {
   "cell_type": "code",
   "execution_count": null,
   "metadata": {},
   "outputs": [],
   "source": [
    "\n",
    "from pmdarima.arima import auto_arima\n",
    "# fit auto-ARIMA\n",
    "#also do stationarity test!!!\n",
    "auto_model = auto_arima(df_daily[:split_pos][\"pred_error\"], start_p=0, start_q=0,\n",
    "                         test='adf',\n",
    "                         max_p=3, max_q=3,\n",
    "                         start_P=0, seasonal=False,\n",
    "                         d=None, D=1, trace=True,\n",
    "                         error_action='ignore',  \n",
    "                         suppress_warnings=True, \n",
    "                         stepwise=True)\n",
    "\n",
    "auto_model.summary()\n"
   ]
  },
  {
   "cell_type": "code",
   "execution_count": null,
   "metadata": {},
   "outputs": [],
   "source": [
    "yy = auto_model.predict()\n",
    "len(yy)"
   ]
  },
  {
   "cell_type": "code",
   "execution_count": null,
   "metadata": {},
   "outputs": [],
   "source": [
    "df_daily[\"pred_by_decomp_corrected\"][split_pos:split_pos+10] += yy"
   ]
  },
  {
   "cell_type": "code",
   "execution_count": null,
   "metadata": {},
   "outputs": [],
   "source": [
    "\n",
    "df_daily[split_pos-4:split_pos+50][[\"actual\", \"pred_by_decomp\", \"pred_by_decomp_corrected\"]].plot()"
   ]
  },
  {
   "cell_type": "code",
   "execution_count": null,
   "metadata": {},
   "outputs": [],
   "source": [
    "df_daily[[\"pred_error\"]].boxplot()\n",
    "print(mean_absolute_error(df_daily[split_pos:][\"actual\"],df_daily[split_pos:][\"pred_by_decomp\"]))\n",
    "print(mean_squared_error(df_daily[split_pos:][\"actual\"],df_daily[split_pos:][\"pred_by_decomp\"]))\n"
   ]
  },
  {
   "cell_type": "markdown",
   "metadata": {},
   "source": [
    "## smoothed decomp"
   ]
  },
  {
   "cell_type": "code",
   "execution_count": null,
   "metadata": {},
   "outputs": [],
   "source": [
    "daily_decomp = seasonal_decompose(df_daily.actual[:-len(df_daily)//4].rolling(21).mean()[21:], model='add', period=365)\n",
    "plot_decomposition(daily_decomp)\n"
   ]
  },
  {
   "cell_type": "code",
   "execution_count": null,
   "metadata": {},
   "outputs": [],
   "source": [
    "#predict seasonal\n",
    "\n",
    "estimator1 = TBATS()\n",
    "fitted_model1 = estimator1.fit(daily_decomp.trend[200:800])\n",
    "forcasted_trend = fitted_model1.forecast(steps=14)\n",
    "#plt.plot(forcasted_trend)"
   ]
  },
  {
   "cell_type": "markdown",
   "metadata": {},
   "source": [
    "# Throwing the data at predictors"
   ]
  },
  {
   "cell_type": "code",
   "execution_count": null,
   "metadata": {},
   "outputs": [],
   "source": [
    "df_daily_2 =  df.groupby('tday').sum()[[\"equipment_electric_power_kWh\"]].rename(columns={\"equipment_electric_power_kWh\": \"actual\"})"
   ]
  },
  {
   "cell_type": "code",
   "execution_count": null,
   "metadata": {},
   "outputs": [],
   "source": [
    "# Create estimator\n",
    "estimator2 = TBATS(seasonal_periods=[7, 365])\n",
    "\n",
    "# Fit model\n",
    "fitted_model2 = estimator2.fit(df_daily_2.actual[:1000])"
   ]
  },
  {
   "cell_type": "code",
   "execution_count": null,
   "metadata": {},
   "outputs": [],
   "source": [
    "# Forecast 14 steps ahead\n",
    "y_forecasted = fitted_model2.forecast(steps=14)\n",
    "forecast = pd.Series(np.nan, index = df_daily_2.index)\n",
    "forecast[1000:1014] = y_forecasted\n",
    "df_daily_2['forecast_14d'] = forecast\n",
    "\n",
    "# Forecast 140 steps ahead\n",
    "y_forecasted = fitted_model2.forecast(steps=140)\n",
    "forecast = pd.Series(np.nan, index = df_daily_2.index)\n",
    "forecast[1000:1140] = y_forecasted\n",
    "df_daily_2['forecast_140d'] = forecast"
   ]
  },
  {
   "cell_type": "code",
   "execution_count": null,
   "metadata": {},
   "outputs": [],
   "source": [
    "print(fitted_model2.summary())"
   ]
  },
  {
   "cell_type": "code",
   "execution_count": null,
   "metadata": {},
   "outputs": [],
   "source": [
    "#fit with less data\n",
    "# Create estimator\n",
    "estimator3 = TBATS(seasonal_periods=[7])\n",
    "\n",
    "# Fit model\n",
    "fitted_model3 = estimator3.fit(df_daily_2.actual[600:1000])"
   ]
  },
  {
   "cell_type": "code",
   "execution_count": null,
   "metadata": {},
   "outputs": [],
   "source": [
    "fitted_updated_model3 = estimator3.fit(df_daily_2.actual[600:1010])"
   ]
  },
  {
   "cell_type": "code",
   "execution_count": null,
   "metadata": {},
   "outputs": [],
   "source": [
    "# Forecast 4 steps ahead\n",
    "y_forecasted = fitted_model3.forecast(steps=14)\n",
    "forecast3 = pd.Series(np.nan, index = df_daily_2.index)\n",
    "forecast3[1000:1014] = y_forecasted\n",
    "df_daily_2['forecast_4d'] = forecast3"
   ]
  },
  {
   "cell_type": "code",
   "execution_count": null,
   "metadata": {},
   "outputs": [],
   "source": [
    "#print(fitted_model.summary())"
   ]
  },
  {
   "cell_type": "code",
   "execution_count": null,
   "metadata": {},
   "outputs": [],
   "source": [
    "plt.plot(df_daily_2[350:1140].actual, color=\"green\")\n",
    "plt.plot(df_daily_2[350:1000].actual, color=\"black\")\n",
    "plt.plot(forecast, color=\"red\")\n",
    "plt.plot(df_daily_2.forecast_140d, color=\"orange\")"
   ]
  },
  {
   "cell_type": "code",
   "execution_count": null,
   "metadata": {},
   "outputs": [],
   "source": [
    "plt.plot(df_daily_2[920:1060]);"
   ]
  },
  {
   "cell_type": "code",
   "execution_count": null,
   "metadata": {},
   "outputs": [],
   "source": [
    "print(mean_absolute_error(df_daily_2[1000:1140]['actual'], df_daily_2[1000:1140]['forecast_140d']))\n",
    "print(mean_squared_error(df_daily_2[1000:1140]['actual'], df_daily_2[1000:1140]['forecast_140d']))\n",
    "pd.DataFrame(df_daily_2[1000:1140]['actual'] - df_daily_2[1000:1140]['forecast_140d']).boxplot()"
   ]
  },
  {
   "cell_type": "markdown",
   "metadata": {},
   "source": [
    "## Look into weekly trends"
   ]
  },
  {
   "cell_type": "code",
   "execution_count": null,
   "metadata": {},
   "outputs": [],
   "source": [
    "#some of these consecetive weeks look very similar\n",
    "len(df_daily_2.actual)\n",
    "total_weeks = 1460//7 - 1\n",
    "print(total_weeks)\n",
    "#for i in range(151,158):\n",
    "for i in range(152,156):\n",
    "    plt.plot(df_daily_2[i*7:(i+1)*7].to_numpy())"
   ]
  },
  {
   "cell_type": "code",
   "execution_count": null,
   "metadata": {},
   "outputs": [],
   "source": [
    "df_daily_2"
   ]
  },
  {
   "cell_type": "markdown",
   "metadata": {},
   "source": [
    "## Manual seasonal decomposition"
   ]
  },
  {
   "cell_type": "code",
   "execution_count": null,
   "metadata": {},
   "outputs": [],
   "source": [
    "power_series = df.set_index('datetime').equipment_electric_power_kWh\n",
    "fig, (ax1, ax2) = plt.subplots(1, 2)\n",
    "power_series.plot(ax=ax1)\n",
    "power_series.loc[span('2008-08-04', '2008-08-12')].plot(ax=ax2);\n"
   ]
  },
  {
   "cell_type": "code",
   "execution_count": null,
   "metadata": {},
   "outputs": [],
   "source": [
    "# Autocorrelation\n",
    "plot_acf(power_series, lags=30); #use I(d) for d>0?"
   ]
  },
  {
   "cell_type": "code",
   "execution_count": null,
   "metadata": {},
   "outputs": [],
   "source": [
    "#smooth daily and observe weekly trends\n",
    "daily_power = df.groupby('tday').mean().equipment_electric_power_kWh\n",
    "fig, (ax1, ax2) = plt.subplots(1, 2)\n",
    "daily_power.plot(ax=ax1);\n",
    "plot_acf(daily_power, lags=100, ax=ax2); #use I(d) for d>0?"
   ]
  },
  {
   "cell_type": "code",
   "execution_count": null,
   "metadata": {},
   "outputs": [],
   "source": [
    "fig, (ax1, ax2) = plt.subplots(1, 2)\n",
    "df.equipment_electric_power_kWh.rolling(24).mean().plot(ax=ax1)\n",
    "df.equipment_electric_power_kWh.rolling(24*7*4).mean().plot(ax=ax2); #[?] can I just choose some arbitrary rolling such that my season and trend look nice?"
   ]
  },
  {
   "cell_type": "code",
   "execution_count": null,
   "metadata": {},
   "outputs": [],
   "source": [
    "# need to first factor out trends and seasonalities\n",
    "rolling_window = 24*7*2\n",
    "rolling_window = 24*7\n",
    "smooth_4w_power = df.equipment_electric_power_kWh.rolling(rolling_window).mean()\n",
    "decomp = seasonal_decompose(smooth_4w_power.loc[24*7*4:], model='add', period=365*24)\n",
    "plot_decomposition(decomp)"
   ]
  },
  {
   "cell_type": "code",
   "execution_count": null,
   "metadata": {},
   "outputs": [],
   "source": [
    "res = decomp.resid\n",
    "res.plot()\n",
    "decomp_2 = seasonal_decompose(res.rolling(24).mean().loc[6000:30000], model='add', period=7*24)\n",
    "plot_decomposition(decomp_2)\n",
    "fig, (ax) = plt.subplots(1, 1)\n",
    "decomp_2.seasonal.loc[10000:10000+24*7*3].plot(ax=ax)"
   ]
  },
  {
   "cell_type": "markdown",
   "metadata": {},
   "source": [
    "# Testing quality of prediction simulation"
   ]
  },
  {
   "cell_type": "code",
   "execution_count": null,
   "metadata": {},
   "outputs": [],
   "source": [
    "temp = \"outdoor_temp\"\n",
    "hum = \"outdoor_hum\"\n",
    "diffuse_solar = \"diffuse_solar_W_m2\"\n",
    "direct_solar = \"direct_solar_W_m2\"\n",
    "pred_features = [temp, hum, diffuse_solar, direct_solar]\n",
    "\n",
    "###################################\n",
    "# change here which of the four features you want to investigate\n",
    "feature = pred_features[0]\n",
    "###################################\n",
    "\n",
    "display(df.columns)"
   ]
  },
  {
   "cell_type": "code",
   "execution_count": null,
   "metadata": {},
   "outputs": [],
   "source": [
    "#sns.pairplot(difs)\n",
    "pdf = pd.concat([\n",
    "    df[feature],\n",
    "    df[f\"pred_6h_{feature}\"].shift(6),\n",
    "    df[f\"pred_12h_{feature}\"].shift(12),\n",
    "    df[f\"pred_24h_{feature}\"].shift(24),\n",
    "], axis=1).iloc[24:, :]"
   ]
  },
  {
   "cell_type": "code",
   "execution_count": null,
   "metadata": {},
   "outputs": [],
   "source": [
    "pred_temp_cols = [\n",
    "    f'pred_6h_{feature}',\n",
    "    f'pred_12h_{feature}',\n",
    "    f'pred_24h_{feature}'\n",
    "]\n",
    "\n",
    "X = pdf[[f\"pred_12h_{feature}\", f\"pred_24h_{feature}\"]]\n",
    "y = pdf[feature]\n",
    "X_train, X_test, y_train, y_test = train_test_split(X, y)"
   ]
  },
  {
   "cell_type": "code",
   "execution_count": null,
   "metadata": {},
   "outputs": [],
   "source": [
    "lr = LinearRegression()\n",
    "lr.fit(X_train, y_train)"
   ]
  },
  {
   "cell_type": "code",
   "execution_count": null,
   "metadata": {},
   "outputs": [],
   "source": [
    "pdf_test = pdf.loc[X_test.index, :].assign(\n",
    "    pred_12h_better = lr.predict(X_test),\n",
    "    pred_error = lambda x: x[f\"pred_6h_{feature}\"] - x[feature],\n",
    "    pred_error_12 = lambda x: x[f\"pred_12h_{feature}\"] - x[feature],\n",
    "    pred_error_24 = lambda x: x[f\"pred_24h_{feature}\"] - x[feature],\n",
    "    pred_better_error = lambda x: x[\"pred_12h_better\"] - x[feature],\n",
    ")"
   ]
  },
  {
   "cell_type": "code",
   "execution_count": null,
   "metadata": {},
   "outputs": [],
   "source": [
    "t = 3354\n",
    "pdf.iloc[t:t+50, :].plot()"
   ]
  },
  {
   "cell_type": "code",
   "execution_count": null,
   "metadata": {},
   "outputs": [],
   "source": [
    "pdf_test[[\"pred_error\", \"pred_better_error\"]].rename(columns={\n",
    "    \"pred_error\": \"error of 6 hour prediction from csv\",\n",
    "    \"pred_better_error\": \"error of my 12 hour prediction\",\n",
    "    }).boxplot()"
   ]
  },
  {
   "cell_type": "code",
   "execution_count": null,
   "metadata": {},
   "outputs": [],
   "source": [
    "pdf_test[[\"pred_error\", \"pred_error_12\", \"pred_error_24\"]].hist(bins=98)"
   ]
  },
  {
   "cell_type": "code",
   "execution_count": null,
   "metadata": {},
   "outputs": [],
   "source": [
    "print(f\"   csv 24h prediction corr with actual {feature}:\", pdf_test[f\"pred_24h_{feature}\"].corr(pdf[feature]))\n",
    "print(f\"   csv 12h prediction corr with actual {feature}:\", pdf_test[f\"pred_12h_{feature}\"].corr(pdf[feature]))\n",
    "print(f\"   csv  6h prediction corr with actual {feature}:\", pdf_test[f\"pred_6h_{feature}\"].corr(pdf[feature]))\n",
    "print(f\"fitted 12h prediction corr with actual {feature}:\", pdf_test[\"pred_12h_better\"].corr(pdf[feature]))"
   ]
  }
 ],
 "metadata": {
  "kernelspec": {
   "display_name": "Python 3.9.8 ('.venv': venv)",
   "language": "python",
   "name": "python3"
  },
  "language_info": {
   "codemirror_mode": {
    "name": "ipython",
    "version": 3
   },
   "file_extension": ".py",
   "mimetype": "text/x-python",
   "name": "python",
   "nbconvert_exporter": "python",
   "pygments_lexer": "ipython3",
   "version": "3.9.8"
  },
  "orig_nbformat": 4,
  "vscode": {
   "interpreter": {
    "hash": "adec6c5f7a7e6b374924807d676c9e580fd19dbf1c8cad640c4c5a1bb48bcada"
   }
  }
 },
 "nbformat": 4,
 "nbformat_minor": 2
}
