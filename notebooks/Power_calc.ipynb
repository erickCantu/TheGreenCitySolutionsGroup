{
 "cells": [
  {
   "cell_type": "code",
   "execution_count": null,
   "metadata": {},
   "outputs": [],
   "source": [
    "import pandas as pd\n",
    "import json\n",
    "import seaborn as sns\n",
    "import matplotlib.pyplot as plt\n",
    "import numpy as np"
   ]
  },
  {
   "cell_type": "markdown",
   "metadata": {},
   "source": [
    "# Electric Energy\n",
    "- calculation of the electric power consumption for a certain building\n"
   ]
  },
  {
   "cell_type": "markdown",
   "metadata": {},
   "source": [
    "## Preprocess data"
   ]
  },
  {
   "cell_type": "code",
   "execution_count": null,
   "metadata": {},
   "outputs": [],
   "source": [
    "# load csv\n",
    "b = pd.read_csv('../data/preprocessed/Building_4.csv').astype({'datetime': 'datetime64'}) # keep index\n",
    "# convert datetime column to pd datetime format\n",
    "b.datetime = pd.to_datetime(b.datetime)\n",
    "# Extract additional features from timestamp column\n",
    "b = b.assign(\n",
    "    timestamp = b['datetime'], # timestamp column is useful for seaborn lineplots\n",
    "    #date = lambda x: x['timestamp'].dt.date,\n",
    "    year = lambda x: x['timestamp'].dt.year,\n",
    "    month = lambda x: x['timestamp'].dt.month,\n",
    "    day = lambda x: x['timestamp'].dt.day,\n",
    "    dayofweek = lambda x: x['timestamp'].dt.dayofweek,\n",
    "    dayofyear = lambda x: x['timestamp'].dt.dayofyear,\n",
    "    hour = lambda x: x['timestamp'].dt.hour,\n",
    ")\n",
    "b.set_index('datetime',inplace=True) # set the datetime column as index column\n",
    "b.head()"
   ]
  },
  {
   "cell_type": "code",
   "execution_count": null,
   "metadata": {},
   "outputs": [],
   "source": [
    "# create data snipped in a certain time range\n",
    "b_snip = b.loc[pd.date_range('2011-07-07 00:00', '2011-07-14 23:00', freq='H')]"
   ]
  },
  {
   "cell_type": "code",
   "execution_count": null,
   "metadata": {},
   "outputs": [],
   "source": [
    "# get an overview by plotting the data\n",
    "plt.figure(figsize=(20,5))\n",
    "sns.lineplot(data=b_snip,x='datetime',y='equipment_electric_power_kWh')\n",
    "sns.lineplot(data=b_snip,x='datetime',y='dhw_heating_kWh')\n",
    "sns.lineplot(data=b_snip,x='datetime',y='cooling_load_kWh')\n",
    "sns.lineplot(data=b_snip,x='datetime',y='solar_generation_kW')\n",
    "plt.grid('major')"
   ]
  },
  {
   "cell_type": "markdown",
   "metadata": {},
   "source": [
    "## Calculation of electric power consumption of the heat pump and the electric heater for DHW"
   ]
  },
  {
   "cell_type": "markdown",
   "metadata": {},
   "source": [
    "### Heat pump coefficient of performance (COP)"
   ]
  },
  {
   "cell_type": "code",
   "execution_count": null,
   "metadata": {},
   "outputs": [],
   "source": [
    "# calculate heat pump power consumption\n",
    "# parameter set up\n",
    "eta_hpc = 0.15; # technical efficiency coefficient 0.2 ... 0.3 typically\n",
    "temp_target_c = 5; # target temperature for hp cooling, typically 7 ... 10 °C, this equals approx. the temperature of the chilled water storage\n",
    "T_th = 273.15; # thermodynamic temperature in Kelvin [K] corresponding to 0 °C \n",
    "# adding a COP column to the data frame\n",
    "b_snip['COP_c'] = eta_hpc * (temp_target_c + T_th)/ ((b_snip['outdoor_temp'] + T_th) - (temp_target_c + T_th)) "
   ]
  },
  {
   "cell_type": "code",
   "execution_count": null,
   "metadata": {},
   "outputs": [],
   "source": [
    "# COP plot of hp cooling incl. mean COP value (horizontal line)\n",
    "plt.figure(figsize=(20,5))\n",
    "sns.lineplot(data=b_snip,x='datetime',y='COP_c')\n",
    "#sns.lineplot(data=b4_snip,x='datetime',y='outdoor_temp')\n",
    "plt.axhline(b_snip['COP_c'].mean())\n",
    "#plt.axhline(0)\n",
    "#plt.ylim(-10,25)\n",
    "plt.title('COP of hp cooling over time');"
   ]
  },
  {
   "cell_type": "markdown",
   "metadata": {},
   "source": [
    "- theoretical max COP for cooling is approx. 7.8, typical values are 2 ... 4; so the values seem realistic, but tend to be a little bit high\n",
    "- this hp seems to perform well, the technical efficiency coeff. is already reduced to 0.15 to not have an unrealistic well performing device\n"
   ]
  },
  {
   "cell_type": "markdown",
   "metadata": {},
   "source": [
    "### Details on COP"
   ]
  },
  {
   "cell_type": "markdown",
   "metadata": {},
   "source": [
    "- how is the COP changing over outdoor temperature?\n",
    "- what is the limit of the approximated equation for COP calculation?"
   ]
  },
  {
   "cell_type": "code",
   "execution_count": null,
   "metadata": {},
   "outputs": [],
   "source": [
    "# cop over outdoortemp\n",
    "# create temperature list\n",
    "from numpy import linspace\n",
    "\n",
    "temp = list(linspace(0,35,350)) # create list of temperature between 0 and 35 °C\n",
    "df_cop = pd.DataFrame(temp,columns=['temp']) # create dataframe from temperature list\n",
    "df_cop['cop'] = eta_hpc * (temp_target_c + T_th)/ ((df_cop['temp'] + T_th) - (temp_target_c + T_th)) # add a COP column\n",
    "print('The constant target temperature for cooling is: ',temp_target_c)\n",
    "print('\\nMin outdoor temp and max values of realistic cop: \\n', df_cop.loc[(df_cop['cop']<7.8)&(df_cop['cop']>0)].head(1)) # realistic is a cop between 0 and 7.8\n",
    "plt.figure(figsize=(20,5))\n",
    "sns.lineplot(data=df_cop,x='temp',y='cop')\n",
    "plt.title('COP cooling over outdoor temperature')\n"
   ]
  },
  {
   "cell_type": "markdown",
   "metadata": {},
   "source": [
    "- if the difference between outdoor temp and target temp for cooling gets lower than 5 K, the calculated COP increases to unrealistic values, thus minimum difference between outdoor and target temperature should be delta_Tc_min = approx. 5\n",
    "- in summer, the proposed target temp of 7 ... 10 °C works fine, in winter a lower target has to be chosen (approx. 3 ... 5 °C). The following graph - COP over outdoor_temp - shows how the cop changes depending on outdoor temperature with a constant target temperature). Only values for temp > (target_temp + delta_Tc_min) are realistic!\n",
    "- in general: the lower the target temp (temperature of the chilled water storage), the higher the electric energy consumption of the hp.\n",
    "- for a first approach a suggest a constant target temperature for cooling set to target_Tc = 5."
   ]
  },
  {
   "cell_type": "markdown",
   "metadata": {},
   "source": [
    "### Electric power usage by hp and heater"
   ]
  },
  {
   "cell_type": "code",
   "execution_count": null,
   "metadata": {},
   "outputs": [],
   "source": [
    "# Calculate the electric energy consumption of the hp for cooling\n",
    "b_snip['electric_load_hp_kW'] = b_snip['cooling_load_kWh'] / b_snip['COP_c'] # add a column with the electric consumption [kW]\n",
    "# Calculate the electric energy consumption of the heater for DHW heating\n",
    "eta_heater = 0.99 # efficiency of the electric heater for DHW, usually close to 1\n",
    "b_snip['electric_load_heater_kW'] = b_snip['dhw_heating_kWh']/eta_heater # add a column with the electric consumption of heater [kW]"
   ]
  },
  {
   "cell_type": "code",
   "execution_count": null,
   "metadata": {},
   "outputs": [],
   "source": [
    "# electric power consumption of hp for cooling\n",
    "plt.figure(figsize=(20,5))\n",
    "sns.lineplot(data=b_snip,x='datetime',y='electric_load_hp_kW')\n",
    "plt.title('Electric load of hp cooling');"
   ]
  },
  {
   "cell_type": "code",
   "execution_count": null,
   "metadata": {},
   "outputs": [],
   "source": [
    "# electric power consumption of heater for DHW\n",
    "plt.figure(figsize=(20,5))\n",
    "sns.lineplot(data=b_snip,x='datetime',y='electric_load_heater_kW')\n",
    "plt.title('Electric load of heater for DHW');\n"
   ]
  },
  {
   "cell_type": "markdown",
   "metadata": {},
   "source": [
    "### Final plot with all electric powers\n",
    "- with outdoor_temp as a reference\n",
    "- with cooling_load_hp_kW as a reference"
   ]
  },
  {
   "cell_type": "code",
   "execution_count": null,
   "metadata": {},
   "outputs": [],
   "source": [
    "# plotting power plots\n",
    "# choose columns to plot\n",
    "df_plot = b_snip.loc[:,('timestamp','outdoor_temp','cooling_load_kWh','electric_load_hp_kW','electric_load_heater_kW','solar_generation_kW','equipment_electric_power_kWh')]\n",
    "# melt dataframe for plotting\n",
    "df_plot = pd.melt(df_plot, 'timestamp', var_name='Load', value_name='Value') \n",
    "plt.figure(figsize=(20,5))\n",
    "sns.lineplot(data=df_plot,x='timestamp',y='Value',hue='Load')\n",
    "plt.title('Power of building over time')\n",
    "plt.ylabel('Power [kW] / Temperature [°C]')\n",
    "plt.grid('major')"
   ]
  },
  {
   "cell_type": "code",
   "execution_count": null,
   "metadata": {},
   "outputs": [],
   "source": [
    "# Power residual\n",
    "b_snip['power_residual'] = b_snip['solar_generation_kW'] \\\n",
    "                                - b_snip['electric_load_hp_kW'] \\\n",
    "                                - b_snip['electric_load_heater_kW'] \\\n",
    "                                - b_snip['equipment_electric_power_kWh']\n",
    "plt.figure(figsize=(20,5))\n",
    "sns.lineplot(data=b_snip,x='timestamp',y='power_residual')\n",
    "plt.title('Power residual over time')\n",
    "plt.ylabel('Power [kW]')\n",
    "plt.grid('major')\n"
   ]
  }
 ],
 "metadata": {
  "kernelspec": {
   "display_name": "Python 3.9.8 ('.venv': venv)",
   "language": "python",
   "name": "python3"
  },
  "language_info": {
   "codemirror_mode": {
    "name": "ipython",
    "version": 3
   },
   "file_extension": ".py",
   "mimetype": "text/x-python",
   "name": "python",
   "nbconvert_exporter": "python",
   "pygments_lexer": "ipython3",
   "version": "3.9.8"
  },
  "orig_nbformat": 4,
  "vscode": {
   "interpreter": {
    "hash": "adec6c5f7a7e6b374924807d676c9e580fd19dbf1c8cad640c4c5a1bb48bcada"
   }
  }
 },
 "nbformat": 4,
 "nbformat_minor": 2
}
